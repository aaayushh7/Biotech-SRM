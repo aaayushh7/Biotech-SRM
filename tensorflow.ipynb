{
 "cells": [
  {
   "cell_type": "code",
   "execution_count": 17,
   "metadata": {},
   "outputs": [
    {
     "name": "stdout",
     "output_type": "stream",
     "text": [
      "Epoch 1/5\n",
      "400/400 [==============================] - 1s 2ms/step - loss: 591978.3750 - accuracy: 0.6578 - val_loss: 43059.5938 - val_accuracy: 0.7469\n",
      "Epoch 2/5\n",
      "400/400 [==============================] - 1s 1ms/step - loss: 369473.9062 - accuracy: 0.6886 - val_loss: 212092.9531 - val_accuracy: 0.7531\n",
      "Epoch 3/5\n",
      "400/400 [==============================] - 1s 1ms/step - loss: 222193.9062 - accuracy: 0.7023 - val_loss: 88219.5000 - val_accuracy: 0.7713\n",
      "Epoch 4/5\n",
      "400/400 [==============================] - 1s 1ms/step - loss: 189137.1250 - accuracy: 0.7075 - val_loss: 292597.4688 - val_accuracy: 0.7688\n",
      "Epoch 5/5\n",
      "400/400 [==============================] - 1s 1ms/step - loss: 139578.4531 - accuracy: 0.7277 - val_loss: 148965.0156 - val_accuracy: 0.7044\n",
      "50/50 [==============================] - 0s 877us/step - loss: 148964.9688 - accuracy: 0.7044\n",
      "Test Accuracy: 0.7044\n"
     ]
    }
   ],
   "source": [
    "import tensorflow as tf\n",
    "from tensorflow.keras.models import Sequential\n",
    "from tensorflow.keras.layers import Dense\n",
    "import pandas as pd\n",
    "from sklearn.model_selection import train_test_split\n",
    "\n",
    "# Load and preprocess your data\n",
    "df = pd.read_csv(\"G:\\My Drive\\Programming\\Biotech Research Project\\imputed_trainset.csv\")\n",
    "\n",
    "X = df.drop(\"cls\", axis=1)\n",
    "y = df[\"cls\"]\n",
    "\n",
    "X_train, X_test, y_train, y_test = train_test_split(X, y, test_size=0.2, random_state=42)\n",
    "\n",
    "output_classes = 2\n",
    "\n",
    "# Define the model architecture\n",
    "model = Sequential([\n",
    "    Dense(64, activation='relu', input_shape=(1523,)),\n",
    "    Dense(32, activation='relu'),\n",
    "    Dense(output_classes, activation='softmax')\n",
    "])\n",
    "\n",
    "# Compile the model\n",
    "model.compile(optimizer='adam', loss='sparse_categorical_crossentropy', metrics=['accuracy'])\n",
    "\n",
    "# Train the model\n",
    "num_epochs = 5\n",
    "batch_size = 16\n",
    "history = model.fit(X_train, y_train, epochs=num_epochs, batch_size=batch_size, validation_data=(X_test, y_test))\n",
    "\n",
    "# Evaluate the model\n",
    "test_loss, test_accuracy = model.evaluate(X_test, y_test)\n",
    "print(f'Test Accuracy: {test_accuracy:.4f}')\n"
   ]
  },
  {
   "cell_type": "markdown",
   "metadata": {},
   "source": [
    "# Best I could do with Adam optimiser"
   ]
  },
  {
   "cell_type": "code",
   "execution_count": 22,
   "metadata": {},
   "outputs": [
    {
     "name": "stdout",
     "output_type": "stream",
     "text": [
      "Epoch 1/10\n",
      "400/400 [==============================] - 1s 2ms/step - loss: 1066133.6250 - accuracy: 0.6716 - val_loss: 275470.2500 - val_accuracy: 0.6919\n",
      "Epoch 2/10\n",
      "400/400 [==============================] - 1s 1ms/step - loss: 322013.1875 - accuracy: 0.6906 - val_loss: 156676.9062 - val_accuracy: 0.7231\n",
      "Epoch 3/10\n",
      "400/400 [==============================] - 1s 1ms/step - loss: 256451.3125 - accuracy: 0.7002 - val_loss: 799128.0625 - val_accuracy: 0.7250\n",
      "Epoch 4/10\n",
      "400/400 [==============================] - 1s 1ms/step - loss: 286411.8750 - accuracy: 0.7139 - val_loss: 62528.2461 - val_accuracy: 0.7406\n",
      "Epoch 5/10\n",
      "400/400 [==============================] - 1s 1ms/step - loss: 204896.9531 - accuracy: 0.7166 - val_loss: 356516.6250 - val_accuracy: 0.7294\n",
      "Epoch 6/10\n",
      "400/400 [==============================] - 1s 1ms/step - loss: 218986.7656 - accuracy: 0.7284 - val_loss: 279497.5625 - val_accuracy: 0.7462\n",
      "Epoch 7/10\n",
      "400/400 [==============================] - 1s 1ms/step - loss: 196896.5000 - accuracy: 0.7222 - val_loss: 23803.4727 - val_accuracy: 0.6806\n",
      "Epoch 8/10\n",
      "400/400 [==============================] - 1s 1ms/step - loss: 172858.8125 - accuracy: 0.7244 - val_loss: 260036.1250 - val_accuracy: 0.7500\n",
      "Epoch 9/10\n",
      "400/400 [==============================] - 1s 1ms/step - loss: 199932.7969 - accuracy: 0.7386 - val_loss: 173572.5781 - val_accuracy: 0.7700\n",
      "Epoch 10/10\n",
      "400/400 [==============================] - 1s 1ms/step - loss: 256055.2188 - accuracy: 0.7347 - val_loss: 75489.8828 - val_accuracy: 0.7550\n",
      "50/50 [==============================] - 0s 929us/step - loss: 75489.9062 - accuracy: 0.7550\n",
      "Test Accuracy: 0.7550\n"
     ]
    }
   ],
   "source": [
    "import tensorflow as tf\n",
    "from tensorflow.keras.models import Sequential\n",
    "from tensorflow.keras.layers import Dense\n",
    "import pandas as pd\n",
    "from sklearn.model_selection import train_test_split\n",
    "\n",
    "# Load and preprocess your data\n",
    "df = pd.read_csv(\"G:\\My Drive\\Programming\\Biotech Research Project\\imputed_trainset.csv\")\n",
    "\n",
    "X = df.drop(\"cls\", axis=1)\n",
    "y = df[\"cls\"]\n",
    "\n",
    "X_train, X_test, y_train, y_test = train_test_split(X, y, test_size=0.2, random_state=42)\n",
    "\n",
    "output_classes = 2\n",
    "\n",
    "# Define the model architecture\n",
    "model = Sequential([\n",
    "    Dense(64, activation='relu', input_shape=(1523,)),\n",
    "    Dense(32, activation='relu'),\n",
    "    Dense(output_classes, activation='softmax')\n",
    "])\n",
    "\n",
    "# Define a custom learning rate\n",
    "custom_learning_rate = 0.0001 \n",
    "\n",
    "\n",
    "# Compile the model with the custom learning rate\n",
    "optimizer = tf.keras.optimizers.Adam(learning_rate=custom_learning_rate)\n",
    "model.compile(optimizer=optimizer, loss='sparse_categorical_crossentropy', metrics=['accuracy'])\n",
    "\n",
    "# Train the model\n",
    "num_epochs = 10\n",
    "batch_size = 16\n",
    "history = model.fit(X_train, y_train, epochs=num_epochs, batch_size=batch_size, validation_data=(X_test, y_test))\n",
    "\n",
    "# Evaluate the model\n",
    "test_loss, test_accuracy = model.evaluate(X_test, y_test)\n",
    "print(f'Test Accuracy: {test_accuracy:.4f}')\n"
   ]
  },
  {
   "cell_type": "markdown",
   "metadata": {},
   "source": [
    "# Stochastic Gradient Descent "
   ]
  },
  {
   "cell_type": "code",
   "execution_count": 27,
   "metadata": {},
   "outputs": [
    {
     "name": "stdout",
     "output_type": "stream",
     "text": [
      "Epoch 1/5\n",
      "400/400 [==============================] - 1s 1ms/step - loss: 0.0519 - accuracy: 0.9864 - val_loss: 0.3988 - val_accuracy: 0.8750\n",
      "Epoch 2/5\n",
      "400/400 [==============================] - 0s 1ms/step - loss: 0.0467 - accuracy: 0.9859 - val_loss: 0.3832 - val_accuracy: 0.8819\n",
      "Epoch 3/5\n",
      "400/400 [==============================] - 0s 1ms/step - loss: 0.0415 - accuracy: 0.9908 - val_loss: 0.4014 - val_accuracy: 0.8806\n",
      "Epoch 4/5\n",
      "400/400 [==============================] - 0s 1ms/step - loss: 0.0380 - accuracy: 0.9887 - val_loss: 0.4233 - val_accuracy: 0.8781\n",
      "Epoch 5/5\n",
      "400/400 [==============================] - 0s 1ms/step - loss: 0.0336 - accuracy: 0.9925 - val_loss: 0.4293 - val_accuracy: 0.8763\n",
      "50/50 [==============================] - 0s 827us/step - loss: 0.4293 - accuracy: 0.8763\n",
      "Test Accuracy: 0.8763\n"
     ]
    }
   ],
   "source": [
    "# Compile the model with SGD optimizer\n",
    "learning_rate = 0.01 \n",
    "sgd_optimizer = tf.keras.optimizers.SGD(learning_rate=learning_rate)\n",
    "model.compile(optimizer=sgd_optimizer, loss='sparse_categorical_crossentropy', metrics=['accuracy'])\n",
    "\n",
    "# Train the model\n",
    "num_epochs = 5\n",
    "batch_size = 16\n",
    "history = model.fit(X_train, y_train, epochs=num_epochs, batch_size=batch_size, validation_data=(X_test, y_test))\n",
    "\n",
    "# Evaluate the model\n",
    "test_loss, test_accuracy = model.evaluate(X_test, y_test)\n",
    "print(f'Test Accuracy: {test_accuracy:.4f}')\n"
   ]
  },
  {
   "cell_type": "code",
   "execution_count": null,
   "metadata": {},
   "outputs": [],
   "source": []
  }
 ],
 "metadata": {
  "kernelspec": {
   "display_name": "Python 3",
   "language": "python",
   "name": "python3"
  },
  "language_info": {
   "codemirror_mode": {
    "name": "ipython",
    "version": 3
   },
   "file_extension": ".py",
   "mimetype": "text/x-python",
   "name": "python",
   "nbconvert_exporter": "python",
   "pygments_lexer": "ipython3",
   "version": "3.11.4"
  },
  "orig_nbformat": 4
 },
 "nbformat": 4,
 "nbformat_minor": 2
}
