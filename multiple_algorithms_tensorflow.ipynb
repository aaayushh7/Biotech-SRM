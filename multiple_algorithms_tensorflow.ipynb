{
 "cells": [
  {
   "cell_type": "markdown",
   "metadata": {},
   "source": [
    "# Adam Optimizer"
   ]
  },
  {
   "cell_type": "code",
   "execution_count": 1,
   "metadata": {},
   "outputs": [
    {
     "name": "stdout",
     "output_type": "stream",
     "text": [
      "Epoch 1/5\n",
      "400/400 [==============================] - 1s 1ms/step - loss: 1162105.8750 - accuracy: 0.6359 - val_loss: 608384.5000 - val_accuracy: 0.6894\n",
      "Epoch 2/5\n",
      "400/400 [==============================] - 1s 1ms/step - loss: 666881.3750 - accuracy: 0.7047 - val_loss: 238159.7188 - val_accuracy: 0.7700\n",
      "Epoch 3/5\n",
      "400/400 [==============================] - 0s 1ms/step - loss: 328841.0625 - accuracy: 0.6994 - val_loss: 527614.2500 - val_accuracy: 0.5225\n",
      "Epoch 4/5\n",
      "400/400 [==============================] - 0s 1ms/step - loss: 222448.7188 - accuracy: 0.7161 - val_loss: 78045.5156 - val_accuracy: 0.6400\n",
      "Epoch 5/5\n",
      "400/400 [==============================] - 0s 1ms/step - loss: 257627.3594 - accuracy: 0.7055 - val_loss: 58359.1641 - val_accuracy: 0.6519\n",
      "50/50 [==============================] - 0s 776us/step - loss: 58359.1797 - accuracy: 0.6519\n",
      "Test Accuracy: 0.6519\n"
     ]
    }
   ],
   "source": [
    "import tensorflow as tf\n",
    "from tensorflow.keras.models import Sequential\n",
    "from tensorflow.keras.layers import Dense\n",
    "import pandas as pd\n",
    "from sklearn.model_selection import train_test_split\n",
    "\n",
    "# Load and preprocess your data\n",
    "df = pd.read_csv(\"G:\\My Drive\\Programming\\Biotech Research Project\\imputed_trainset.csv\")\n",
    "\n",
    "X = df.drop(\"cls\", axis=1)\n",
    "y = df[\"cls\"]\n",
    "\n",
    "X_train, X_test, y_train, y_test = train_test_split(X, y, test_size=0.2, random_state=42)\n",
    "\n",
    "output_classes = 2\n",
    "\n",
    "# Define the model architecture\n",
    "model = Sequential([\n",
    "    Dense(64, activation='relu', input_shape=(1523,)),\n",
    "    Dense(32, activation='relu'),\n",
    "    Dense(output_classes, activation='softmax')\n",
    "])\n",
    "\n",
    "# Compile the model\n",
    "model.compile(optimizer='adam', loss='sparse_categorical_crossentropy', metrics=['accuracy'])\n",
    "\n",
    "# Train the model\n",
    "num_epochs = 5\n",
    "batch_size = 16\n",
    "history = model.fit(X_train, y_train, epochs=num_epochs, batch_size=batch_size, validation_data=(X_test, y_test))\n",
    "\n",
    "# Evaluate the model\n",
    "test_loss, test_accuracy = model.evaluate(X_test, y_test)\n",
    "print(f'Test Accuracy: {test_accuracy:.4f}')\n"
   ]
  },
  {
   "cell_type": "markdown",
   "metadata": {},
   "source": [
    "# RMSprop Optimizer"
   ]
  },
  {
   "cell_type": "code",
   "execution_count": 3,
   "metadata": {},
   "outputs": [
    {
     "name": "stdout",
     "output_type": "stream",
     "text": [
      "Epoch 1/5\n",
      "400/400 [==============================] - 1s 1ms/step - loss: nan - accuracy: 0.5006 - val_loss: nan - val_accuracy: 0.4975\n",
      "Epoch 2/5\n",
      "400/400 [==============================] - 0s 1ms/step - loss: nan - accuracy: 0.5006 - val_loss: nan - val_accuracy: 0.4975\n",
      "Epoch 3/5\n",
      "400/400 [==============================] - 0s 1ms/step - loss: nan - accuracy: 0.5006 - val_loss: nan - val_accuracy: 0.4975\n",
      "Epoch 4/5\n",
      "400/400 [==============================] - 0s 1ms/step - loss: nan - accuracy: 0.5006 - val_loss: nan - val_accuracy: 0.4975\n",
      "Epoch 5/5\n",
      "400/400 [==============================] - 0s 1ms/step - loss: nan - accuracy: 0.5006 - val_loss: nan - val_accuracy: 0.4975\n",
      "50/50 [==============================] - 0s 816us/step - loss: nan - accuracy: 0.4975\n",
      "Test Accuracy: 0.4975\n"
     ]
    }
   ],
   "source": [
    "learning_rate = 0.01 \n",
    "rmsprop_optimizer = tf.keras.optimizers.RMSprop(learning_rate=learning_rate)\n",
    "model.compile(optimizer=rmsprop_optimizer, loss='sparse_categorical_crossentropy', metrics=['accuracy'])\n",
    "\n",
    "\n",
    "# Train the model\n",
    "num_epochs = 5\n",
    "batch_size = 16\n",
    "history = model.fit(X_train, y_train, epochs=num_epochs, batch_size=batch_size, validation_data=(X_test, y_test))\n",
    "\n",
    "# Evaluate the model\n",
    "test_loss, test_accuracy = model.evaluate(X_test, y_test)\n",
    "print(f'Test Accuracy: {test_accuracy:.4f}')"
   ]
  },
  {
   "cell_type": "markdown",
   "metadata": {},
   "source": [
    "# Adagrad Optimizer"
   ]
  },
  {
   "cell_type": "code",
   "execution_count": null,
   "metadata": {},
   "outputs": [],
   "source": []
  }
 ],
 "metadata": {
  "kernelspec": {
   "display_name": "Python 3",
   "language": "python",
   "name": "python3"
  },
  "language_info": {
   "codemirror_mode": {
    "name": "ipython",
    "version": 3
   },
   "file_extension": ".py",
   "mimetype": "text/x-python",
   "name": "python",
   "nbconvert_exporter": "python",
   "pygments_lexer": "ipython3",
   "version": "3.11.4"
  },
  "orig_nbformat": 4
 },
 "nbformat": 4,
 "nbformat_minor": 2
}
